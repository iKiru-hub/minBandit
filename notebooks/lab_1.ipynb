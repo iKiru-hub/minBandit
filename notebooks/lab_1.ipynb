{
 "cells": [
  {
   "cell_type": "code",
   "execution_count": 1,
   "metadata": {
    "lines_to_next_cell": 1
   },
   "outputs": [],
   "source": [
    "import numpy as np\n",
    "import matplotlib.pyplot as plt\n",
    "import os\n",
    "import src.utils as utils\n",
    "from tqdm import tqdm\n",
    "# os.chdir(\"minBandit/\")\n",
    "print(os.getcwd())\n",
    "import main\n",
    "from scipy.ndimage import convolve1d"
   ]
  },
  {
   "cell_type": "code",
   "execution_count": null,
   "id": "c29947b3",
   "metadata": {},
   "outputs": [],
   "source": [
    "class Settings:\n",
    "\n",
    "    verbose = False\n",
    "    rounds = 2\n",
    "    trials = 2\n",
    "    reps = 10\n",
    "    K = 10\n",
    "    model = None\n",
    "    load = True\n",
    "    plot = False\n",
    "    env = \"simple\"\n",
    "    multiple = 1\n",
    "    visual = False\n",
    "    save = True\n",
    "    idx = 4"
   ]
  },
  {
   "cell_type": "markdown",
   "id": "91edeae1",
   "metadata": {},
   "source": [
    "-------------------------\n",
    "## **Simple**"
   ]
  },
  {
   "cell_type": "code",
   "execution_count": null,
   "id": "3809fd56",
   "metadata": {},
   "outputs": [],
   "source": [
    "\"\"\" settings \"\"\"\n",
    "settings1 = Settings()\n",
    "settings1.rounds = 200\n",
    "settings1.trials = 3\n",
    "settings1.reps = 10\n",
    "settings1.verbose = True"
   ]
  },
  {
   "cell_type": "code",
   "execution_count": null,
   "id": "37c87849",
   "metadata": {
    "lines_to_next_cell": 1
   },
   "outputs": [],
   "source": [
    "\"\"\" run \"\"\"\n",
    "record = {}\n",
    "\n",
    "Ks = [5, 15, 45, 95]\n",
    "for i, k in tqdm(zip(range(len(Ks)), Ks)):\n",
    "    settings1.K = k\n",
    "    results = main.main_multiple(args=settings1)\n",
    "    record[str(i)] = results\n",
    "\n",
    "print(\"done\")"
   ]
  },
  {
   "cell_type": "code",
   "execution_count": null,
   "id": "764a0bed",
   "metadata": {
    "lines_to_next_cell": 2
   },
   "outputs": [],
   "source": [
    "\n",
    "def plot(idx, color, m=0, theta=0.0125):\n",
    "\n",
    "    # array of mean reward for each round over reps for a given trial\n",
    "    z = record[f'{m}']['reward_list'][idx][:, 0].mean(axis=0)\n",
    "    name = record['0']['names'][idx]\n",
    "\n",
    "    # steady-state reward : last ~50\n",
    "    mu_ref = z[-50:].mean()\n",
    "\n",
    "    # residuals\n",
    "    res = (z - mu_ref)**2\n",
    "\n",
    "    # 1d convolution over y\n",
    "    kc = 80\n",
    "    y = convolve1d(res, np.ones(kc), mode=\"constant\")/kc\n",
    "\n",
    "    # point of stability\n",
    "    cy_idx = np.where(y<theta)[0].min()\n",
    "    # plt.axvline(cy_idx, color=color, alpha=0.5, linestyle='-.',\n",
    "    #             label=f\"{cy_idx}\")\n",
    "\n",
    "    plt.plot(convolve1d(z, np.ones(kc), mode=\"constant\")/kc,\n",
    "             color=color,\n",
    "             alpha=0.5, label=f\"{name} residuals\")\n",
    "    # plt.plot(y, alpha=0.5, linestyle='--', color=color,\n",
    "    #          label=f\"{name} rewards\")\n",
    "\n",
    "theta = 0.01\n",
    "plt.axhline(y=theta, color='red', alpha=0.5)\n",
    "plot(idx=2, color='blue')\n",
    "plot(idx=3, color='green')\n",
    "plt.legend(loc=\"lower right\")\n",
    "plt.show()"
   ]
  },
  {
   "cell_type": "code",
   "execution_count": null,
   "id": "976ca3d3",
   "metadata": {},
   "outputs": [],
   "source": [
    "\"\"\" make the plot over different `K` \"\"\"\n",
    "\n",
    "def calc_stability_points(record, idx):\n",
    "\n",
    "    points = []\n",
    "\n",
    "    for _, k_record in record.items():\n",
    "\n",
    "        # array of mean reward for each round over reps for a given trial\n",
    "        z = k_record['reward_list'][idx][:, 0].mean(axis=0)\n",
    "        name = k_record['names'][idx]\n",
    "\n",
    "        # steady-state reward : last ~50\n",
    "        mu_ref = z[-50:].mean()\n",
    "\n",
    "        # residuals\n",
    "        res = (z - mu_ref)**2\n",
    "\n",
    "        # 1d convolution over y\n",
    "        kc = 50\n",
    "        y = convolve1d(res, np.ones(kc), mode=\"constant\")/kc\n",
    "\n",
    "        # point of stability\n",
    "        p = np.where(y<0.015)[0]\n",
    "        if len(p) == 0:\n",
    "            points += [200]\n",
    "        else:\n",
    "            points += [p.min()]\n",
    "\n",
    "    return points, name"
   ]
  },
  {
   "cell_type": "code",
   "execution_count": null,
   "id": "126c147f",
   "metadata": {},
   "outputs": [],
   "source": [
    "\"\"\" make plot \"\"\"\n",
    "\n",
    "colors = plt.cm.tab10(range(4))\n",
    "for i in range(4):\n",
    "\n",
    "    points, name = calc_stability_points(record, idx=i)\n",
    "\n",
    "    plt.plot(points, '-o', color=colors[i], label=name)\n",
    "\n",
    "# plt.yticks(np.arange(0, 1, 0.01), ())\n",
    "plt.legend(loc=\"upper left\")\n",
    "plt.xticks(range(len(rounds)), rounds)\n",
    "plt.grid()\n",
    "plt.show()"
   ]
  },
  {
   "cell_type": "code",
   "execution_count": null,
   "id": "54d4f54e",
   "metadata": {},
   "outputs": [],
   "source": [
    "\n"
   ]
  },
  {
   "cell_type": "markdown",
   "id": "7502ef93",
   "metadata": {},
   "source": [
    "-------------------------\n",
    "## **Smooth**"
   ]
  },
  {
   "cell_type": "code",
   "execution_count": null,
   "id": "6af98070",
   "metadata": {},
   "outputs": [],
   "source": [
    "\"\"\" settings \"\"\"\n",
    "settings2 = Settings()\n",
    "settings2.rounds = 1\n",
    "settings2.trials = 600\n",
    "settings2.reps = 2\n",
    "settings2.K = 10"
   ]
  },
  {
   "cell_type": "code",
   "execution_count": null,
   "id": "9c8a5bbd",
   "metadata": {},
   "outputs": [],
   "source": [
    "\"\"\" run \"\"\"\n",
    "record2 = {}\n",
    "\n",
    "rounds = [1, 2, 3, 5, 10]\n",
    "for i, k in tqdm(zip(range(len(rounds)), rounds)):\n",
    "    print(f\"{i=} {k=}\")\n",
    "    settings2.rounds = k\n",
    "    results2 = main.main_multiple(args=settings2)\n",
    "    record2[str(i)] = results2\n",
    "\n",
    "print(\"done\")"
   ]
  },
  {
   "cell_type": "code",
   "execution_count": null,
   "id": "9f3581c1",
   "metadata": {
    "lines_to_next_cell": 2
   },
   "outputs": [],
   "source": [
    "record.keys()\n",
    "\n"
   ]
  }
 ],
 "metadata": {
  "kernelspec": {
   "display_name": "Python 3 (ipykernel)",
   "language": "python",
   "name": "python3"
  },
  "language_info": {
   "codemirror_mode": {
    "name": "ipython",
    "version": 3
   },
   "file_extension": ".py",
   "mimetype": "text/x-python",
   "name": "python",
   "nbconvert_exporter": "python",
   "pygments_lexer": "ipython3",
   "version": "3.11.9"
  }
 },
 "nbformat": 4,
 "nbformat_minor": 4
}
